{
 "cells": [
  {
   "cell_type": "code",
   "execution_count": 3,
   "metadata": {},
   "outputs": [],
   "source": [
    "import numpy as np\n",
    "import nearpy as nearpy"
   ]
  },
  {
   "cell_type": "code",
   "execution_count": 5,
   "metadata": {},
   "outputs": [],
   "source": [
    "from nearpy import Engine\n",
    "from nearpy.hashes import RandomBinaryProjections"
   ]
  },
  {
   "cell_type": "code",
   "execution_count": 10,
   "metadata": {},
   "outputs": [],
   "source": [
    "class HashFunction():\n",
    "    def __init__(self,dim,k,l):\n",
    "        self.dim=dim\n",
    "        self.k=k\n",
    "        self.l=l"
   ]
  },
  {
   "cell_type": "code",
   "execution_count": 33,
   "metadata": {},
   "outputs": [],
   "source": [
    "class NearPyHash(HashFunction):\n",
    "    def __init__(self,dim,k,l):\n",
    "        super(NearPyHash,self).__init__(dim,k,l)\n",
    "        lshashes=[RandomBinaryProjections('hash_{}'.format(i), 10) for i in range(k)]\n",
    "        for lsh in lshashes:\n",
    "            lsh.reset(dim)\n",
    "        self.engine=Engine(dim, lshashes=lshashes)\n",
    "        \n",
    "    "
   ]
  },
  {
   "cell_type": "code",
   "execution_count": 34,
   "metadata": {},
   "outputs": [],
   "source": [
    "nrp=NearPyHash(4,5,6)"
   ]
  },
  {
   "cell_type": "code",
   "execution_count": 22,
   "metadata": {},
   "outputs": [],
   "source": [
    "for index in range(1000):\n",
    "    v = np.random.randn(4)\n",
    "    nrp.engine.store_vector(v, 'data_%d' % index)"
   ]
  },
  {
   "cell_type": "code",
   "execution_count": 24,
   "metadata": {},
   "outputs": [
    {
     "data": {
      "text/plain": [
       "[(array([ 0.52016089,  0.64716816, -0.52113539,  0.19754473]),\n",
       "  'data_328',\n",
       "  0.008680095313714054),\n",
       " (array([ 0.51710797,  0.39318482, -0.75572984,  0.08293036]),\n",
       "  'data_596',\n",
       "  0.029439589496146223),\n",
       " (array([ 0.60668164,  0.33677226, -0.68229227,  0.23021532]),\n",
       "  'data_720',\n",
       "  0.03593083553003096),\n",
       " (array([ 0.58029109,  0.31814927, -0.7335266 ,  0.15486129]),\n",
       "  'data_718',\n",
       "  0.04059250919369717),\n",
       " (array([ 0.6393096 ,  0.47086876, -0.57115431, -0.20820327]),\n",
       "  'data_200',\n",
       "  0.06744518793639875),\n",
       " (array([ 0.76200742,  0.3499317 , -0.45103671,  0.30570965]),\n",
       "  'data_230',\n",
       "  0.07066488185274478),\n",
       " (array([ 0.54613776,  0.41379371, -0.54514318,  0.48303956]),\n",
       "  'data_266',\n",
       "  0.07362732839790043),\n",
       " (array([ 0.68454972,  0.37473353, -0.45119341,  0.4328868 ]),\n",
       "  'data_556',\n",
       "  0.08217401403691571),\n",
       " (array([ 0.34321795,  0.85988317, -0.36248702,  0.10679673]),\n",
       "  'data_232',\n",
       "  0.0929631189055179),\n",
       " (array([ 0.54677407,  0.24831921, -0.6674019 ,  0.44039798]),\n",
       "  'data_485',\n",
       "  0.09965418821420768)]"
      ]
     },
     "execution_count": 24,
     "metadata": {},
     "output_type": "execute_result"
    }
   ],
   "source": [
    "nrp.engine.neighbours(np.random.randn(4))"
   ]
  },
  {
   "cell_type": "code",
   "execution_count": 31,
   "metadata": {},
   "outputs": [],
   "source": [
    "rbp=RandomBinaryProjections('default', 10)\n",
    "rbp.reset(5)"
   ]
  },
  {
   "cell_type": "code",
   "execution_count": 32,
   "metadata": {},
   "outputs": [
    {
     "data": {
      "text/plain": [
       "['0000100000']"
      ]
     },
     "execution_count": 32,
     "metadata": {},
     "output_type": "execute_result"
    }
   ],
   "source": [
    "rbp.hash_vector(np.random.randn(5))"
   ]
  },
  {
   "cell_type": "code",
   "execution_count": null,
   "metadata": {},
   "outputs": [],
   "source": []
  }
 ],
 "metadata": {
  "kernelspec": {
   "display_name": "Python 3",
   "language": "python",
   "name": "python3"
  },
  "language_info": {
   "codemirror_mode": {
    "name": "ipython",
    "version": 3
   },
   "file_extension": ".py",
   "mimetype": "text/x-python",
   "name": "python",
   "nbconvert_exporter": "python",
   "pygments_lexer": "ipython3",
   "version": "3.6.8"
  }
 },
 "nbformat": 4,
 "nbformat_minor": 2
}
